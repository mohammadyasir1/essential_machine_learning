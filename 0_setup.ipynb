{
  "nbformat": 4,
  "nbformat_minor": 0,
  "metadata": {
    "colab": {
      "provenance": []
    },
    "kernelspec": {
      "name": "python3",
      "display_name": "Python 3"
    },
    "language_info": {
      "name": "python"
    }
  },
  "cells": [
    {
      "cell_type": "markdown",
      "source": [
        "# setup for deep learning if you dont have high end pc's or laptops"
      ],
      "metadata": {
        "id": "AvWWx3D0p5kI"
      }
    },
    {
      "cell_type": "code",
      "source": [
        "!mkdir -p ~/.kaggle\n",
        "!cp kaggle.json ~/.kaggle/"
      ],
      "metadata": {
        "id": "lpHJgqqRqCe5"
      },
      "execution_count": null,
      "outputs": []
    },
    {
      "cell_type": "markdown",
      "source": [
        "### copy api of dataset you want to work on"
      ],
      "metadata": {
        "id": "ikK9dkphr0fv"
      }
    },
    {
      "cell_type": "code",
      "source": [
        "!kaggle datasets download -d wobotintelligence/face-mask-detection-dataset"
      ],
      "metadata": {
        "colab": {
          "base_uri": "https://localhost:8080/"
        },
        "id": "YzEh0kwqr4yk",
        "outputId": "bfca4592-a20c-4668-83fd-434cf4c9dfa8"
      },
      "execution_count": null,
      "outputs": [
        {
          "output_type": "stream",
          "name": "stdout",
          "text": [
            "Warning: Your Kaggle API key is readable by other users on this system! To fix this, you can run 'chmod 600 /root/.kaggle/kaggle.json'\n",
            "Downloading face-mask-detection-dataset.zip to /content\n",
            " 99% 2.48G/2.50G [00:28<00:00, 163MB/s]\n",
            "100% 2.50G/2.50G [00:29<00:00, 92.4MB/s]\n"
          ]
        }
      ]
    },
    {
      "cell_type": "code",
      "source": [
        "import zipfile\n",
        "zip_ref = zipfile.ZipFile('face-mask-detection-dataset.zip', 'r')\n",
        "zip_ref.extractall('/content')\n",
        "zip_ref.close()"
      ],
      "metadata": {
        "id": "TXy2pNpAsWmZ"
      },
      "execution_count": null,
      "outputs": []
    },
    {
      "cell_type": "code",
      "source": [
        "!ls"
      ],
      "metadata": {
        "colab": {
          "base_uri": "https://localhost:8080/"
        },
        "id": "VXIBk83Nt5Dc",
        "outputId": "467a32cb-4e08-4c41-8821-3e3e1e6cf361"
      },
      "execution_count": null,
      "outputs": [
        {
          "output_type": "stream",
          "name": "stdout",
          "text": [
            " kaggle.json  'Medical mask'   sample_data\n"
          ]
        }
      ]
    },
    {
      "cell_type": "code",
      "source": [
        "!rm -r 'Medical mask'"
      ],
      "metadata": {
        "id": "AQ3FPrCLuCTO"
      },
      "execution_count": null,
      "outputs": []
    },
    {
      "cell_type": "code",
      "source": [],
      "metadata": {
        "id": "sJ4sfCBduGll"
      },
      "execution_count": null,
      "outputs": []
    }
  ]
}